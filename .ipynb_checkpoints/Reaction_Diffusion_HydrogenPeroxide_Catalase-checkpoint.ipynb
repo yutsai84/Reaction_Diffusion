{
 "cells": [
  {
   "cell_type": "markdown",
   "metadata": {},
   "source": [
    "This is the reference: \n",
    "http://nbviewer.jupyter.org/github/waltherg/notebooks/blob/master/2013-12-03-Crank_Nicolson.ipynb"
   ]
  },
  {
   "cell_type": "code",
   "execution_count": 1,
   "metadata": {
    "collapsed": false
   },
   "outputs": [],
   "source": [
    "import numpy\n",
    "from matplotlib import pyplot\n",
    "numpy.set_printoptions(precision=3)\n",
    "\n",
    "# Specifiy the geometry of the domain\n",
    "\n",
    "L = 22.02*10**(-3) # total length of the channel (m), it was 15.5 mm\n",
    "J = 701 # number of grids in space, 40um/grid (J=176), 10um/grid (J=701)\n",
    "#dx = float(L)/float(J-1)\n",
    "dx = 1.0e-5 # coarse grid size\n",
    "x_grid = numpy.array([j*dx for j in range(J)]) #source\n",
    "\n",
    "mem_loc = [7*10**(-3),7.01*10**(-3),11.01*10**(-3),11.02*10**(-3)]\n",
    "#mem_loc_index = round(float(mem_loc)/float(dx))\n",
    "J1 = numpy.linspace(mem_loc[0],mem_loc[1],num=2) # grids within 1st membrane \n",
    "x_grid = numpy.concatenate((x_grid[0:-1],J1[0:-1])) \n",
    "gap_grid=numpy.linspace(mem_loc[1],mem_loc[2],num=401) # grids between 1st and 2nd membrane for 40 um/grid size (num = 26 for 1 mm, 51 for 2 mm, 101 for 4mm, 201 for 8mm)\n",
    "x_grid=numpy.concatenate((x_grid,gap_grid[0:-1]))# gap\n",
    "J2 = numpy.linspace(mem_loc[2],mem_loc[3],num=2) # grids within 2nd membrane \n",
    "#x_grid = numpy.array([j*dx for j in range(J)])\n",
    "x_grid = numpy.concatenate((x_grid,J2[0:-1]))\n",
    "drain_grid=numpy.linspace(mem_loc[3],L,num=701) # for 40 um/grid size  (num=188 for 1 mm, 163 for 2mm, 113 for 4 mm, 13 for 8mm)\n",
    "x_grid=numpy.concatenate((x_grid,drain_grid))#drain\n",
    "\n",
    "#x_grid = numpy.sort(x_grid, axis=None)\n",
    "#x_grid.append(J1)\n",
    "#x_grid.appedn(J2)\n",
    "#x_grid.sort()\n",
    "T = 120*60 # total time (sec) \n",
    "N = 1000 # number of grids in time\n",
    "dt = float(T)/float(N-1)\n",
    "t_grid = numpy.array([n*dt for n in range(N)])\n",
    "\n",
    "pyplot.scatter(x_grid,x_grid)\n",
    "pyplot.show()\n",
    "\n"
   ]
  },
  {
   "cell_type": "markdown",
   "metadata": {},
   "source": [
    "Please find the diffucivity of Hydrogen Peroxide (d_u) and catalase (d_v) "
   ]
  },
  {
   "cell_type": "code",
   "execution_count": 2,
   "metadata": {
    "collapsed": true
   },
   "outputs": [],
   "source": [
    "\n",
    "# Define the diffusion coefficient of the chamber and membrane \n",
    "\n",
    "d_u = 4.*5.5*10**(-10) # Alpha Methyl Aspartate (m2/s) \n",
    "d_v = 0.01*d_u # catalyse (m2/s)\n",
    "d_m = 0.03*d_u # Alpha Methyl Aspartate diffucivity at the membranes\n",
    "d_v_m = 0.03*d_v # catalyse diffucivitiy at the membrane\n",
    "#D_c =  (D_u+D_m)/2 # centering the diffusion coefficient \n",
    "d_c = (dx+(J1[1]-J1[0]))/2 # centering the grid size\n",
    "\n",
    "sigma_u = float(d_u*dt)/float((2.*dx*dx)) \n",
    "sigma_v = float(d_v*dt)/float((2.*dx*dx))\n",
    "sigma_m = float(d_m*dt)/float((2.*(J1[1]-J1[0])*(J1[1]-J1[0])))\n",
    "sigma_m_v = float(d_v_m*dt)/float((2.*(J1[1]-J1[0])*(J1[1]-J1[0])))\n",
    "#sigma_c = float(D_c*dt)/float((2.*d_c*d_c))\n",
    "\n"
   ]
  },
  {
   "cell_type": "markdown",
   "metadata": {},
   "source": [
    "I assume the reaction rate of H202 to H20 and O2 is propotional to the product of the H2O2 concentraction and the \n",
    "catalase concentration, which will need to be confirmed!"
   ]
  },
  {
   "cell_type": "code",
   "execution_count": 3,
   "metadata": {
    "collapsed": true
   },
   "outputs": [],
   "source": [
    "# Specifiy the reaction term (double check it)\n",
    "# reference from web.mit.edu/chrissu/Public/5310lab3.pdf\n",
    "\n",
    "k0 = numpy.mean([0.0108,0.0133,0.0127,0.0137,0.0121,0.0149]) # reaction constant (1/s)\n",
    "f = lambda u, v : dt*(u*v*k0)\n",
    "\n"
   ]
  },
  {
   "cell_type": "code",
   "execution_count": 6,
   "metadata": {
    "collapsed": false
   },
   "outputs": [
    {
     "name": "stdout",
     "output_type": "stream",
     "text": [
      "[700]\n",
      "[1101]\n"
     ]
    }
   ],
   "source": [
    "# specify the initial condition for repellent (Hydorgen Peroxide)\n",
    "\n",
    "no_high = numpy.where(x_grid == mem_loc[0]) # location of the 1st membrane\n",
    "no_high = numpy.asarray(no_high[0])\n",
    "second_mem = numpy.where(x_grid == mem_loc[2]) # location of the 2nd membrane\n",
    "second_mem = numpy.asarray(second_mem[0])\n",
    "U = numpy.array([1. for i in range(0,no_high)]+ [0. for i in range(no_high,len(x_grid))])  \n",
    "V = numpy.array([0. for i in range(0,no_high+1)]+ [0.01 for i in range(no_high+1,len(x_grid))]) \n",
    "\n",
    "print no_high\n",
    "print second_mem\n"
   ]
  },
  {
   "cell_type": "code",
   "execution_count": 7,
   "metadata": {
    "collapsed": false
   },
   "outputs": [],
   "source": [
    "pyplot.plot(x_grid, U)\n",
    "pyplot.plot(x_grid, V)\n",
    "pyplot.show()"
   ]
  },
  {
   "cell_type": "code",
   "execution_count": 8,
   "metadata": {
    "collapsed": true
   },
   "outputs": [],
   "source": [
    "#Create Matrices\n",
    "#The matrices that we need to construct are all tridiagonal so they are easy to construct with \n",
    "#numpy.diagflat.\n",
    "\n",
    "# it was for i in range(J-1)\n",
    "A_u = numpy.diagflat([-sigma_u for i in range(len(x_grid)-1)], -1) +\\\n",
    "      numpy.diagflat([1.+sigma_u]+[1.+2.*sigma_u for i in range(len(x_grid)-2)]+[1.+sigma_u]) +\\\n",
    "      numpy.diagflat([-sigma_u for i in range(len(x_grid)-1)], 1)\n",
    "        \n",
    "B_u = numpy.diagflat([sigma_u for i in range(len(x_grid)-1)], -1) +\\\n",
    "      numpy.diagflat([1.-sigma_u]+[1.-2.*sigma_u for i in range(len(x_grid)-2)]+[1.-sigma_u]) +\\\n",
    "      numpy.diagflat([sigma_u for i in range(len(x_grid)-1)], 1)\n",
    "        \n",
    "        \n",
    "A_v = numpy.diagflat([-sigma_v for i in range(len(x_grid)-1)], -1) +\\\n",
    "      numpy.diagflat([1.+sigma_v]+[1.+2.*sigma_v for i in range(len(x_grid)-2)]+[1.+sigma_v]) +\\\n",
    "      numpy.diagflat([-sigma_v for i in range(len(x_grid)-1)], 1)\n",
    "        \n",
    "B_v = numpy.diagflat([sigma_v for i in range(len(x_grid)-1)], -1) +\\\n",
    "      numpy.diagflat([1.-sigma_v]+[1.-2.*sigma_v for i in range(len(x_grid)-2)]+[1.-sigma_v]) +\\\n",
    "      numpy.diagflat([sigma_v for i in range(len(x_grid)-1)], 1)        \n",
    "        \n",
    "# 1st membrane left boundary\n",
    "sigma_c_minus = float(d_u*dt)/float(2.*dx*d_c) # outside membrane \n",
    "sigma_c_plus = float(d_m*dt)/float((2.*(J1[1]-J1[0])*d_c)) # within membrane\n",
    "\n",
    "sigma_c_minus_v = float(d_v*dt)/float(2.*dx*d_c) # outside membrane for catalyse\n",
    "sigma_c_plus_v = float(d_v_m*dt)/float((2.*(J1[1]-J1[0])*d_c)) # within membrane for catalyse\n",
    "\n",
    "A_u[no_high,no_high]=1.+sigma_c_plus+sigma_c_minus\n",
    "A_u[no_high,no_high-1]=-sigma_c_minus\n",
    "A_u[no_high,no_high+1]=-sigma_c_plus\n",
    "B_u[no_high,no_high]=1.-sigma_c_plus-sigma_c_minus\n",
    "B_u[no_high,no_high-1]=sigma_c_minus\n",
    "B_u[no_high,no_high+1]=sigma_c_plus\n",
    "\n",
    "A_v[no_high,no_high]=1.+sigma_c_plus_v+sigma_c_minus_v\n",
    "A_v[no_high,no_high-1]=-sigma_c_minus_v\n",
    "A_v[no_high,no_high+1]=-sigma_c_plus_v\n",
    "B_v[no_high,no_high]=1.-sigma_c_plus_v-sigma_c_minus_v\n",
    "B_v[no_high,no_high-1]=sigma_c_minus_v\n",
    "B_v[no_high,no_high+1]=sigma_c_plus_v\n",
    "\n",
    "\n",
    "#within the 1st membrane only \n",
    "if len(J1) >= 3: # only work if there's more than 3 grids in the membrane\n",
    "    for i in range(len(J1)-2): # exclude the left and right boundary\n",
    "        i = i+1 # next of the left boundary\n",
    "        A_u[no_high+i,no_high+i]=1.+2.*sigma_m\n",
    "        A_u[no_high+i,no_high+i-1]=-sigma_m\n",
    "        A_u[no_high+i,no_high+i+1]=-sigma_m\n",
    "        B_u[no_high+i,no_high+i]=1.-2.*sigma_m\n",
    "        B_u[no_high+i,no_high+i-1]=sigma_m\n",
    "        B_u[no_high+i,no_high+i+1]=sigma_m\n",
    "        \n",
    "        A_v[no_high+i,no_high+i]=1.+2.*sigma_m_v\n",
    "        A_v[no_high+i,no_high+i-1]=-sigma_m_v\n",
    "        A_v[no_high+i,no_high+i+1]=-sigma_m_v\n",
    "        B_v[no_high+i,no_high+i]=1.-2.*sigma_m_v\n",
    "        B_v[no_high+i,no_high+i-1]=sigma_m_v\n",
    "        B_v[no_high+i,no_high+i+1]=sigma_m_v\n",
    "\n",
    "# 1st membrane right boundary\n",
    "sigma_c_minus = float(d_m*dt)/float((2.*(J1[1]-J1[0])*d_c)) # within membrane \n",
    "sigma_c_plus = float(d_u*dt)/float((2.*dx*d_c)) # outside membrane\n",
    "\n",
    "sigma_c_minus_v = float(d_v_m*dt)/float((2.*(J1[1]-J1[0])*d_c)) # within membrane \n",
    "sigma_c_plus_v = float(d_v*dt)/float((2.*dx*d_c)) # outside membrane\n",
    "\n",
    "\n",
    "A_u[no_high+2,no_high+2]=1.+sigma_c_plus+sigma_c_minus\n",
    "A_u[no_high+2,no_high+2-1]=-sigma_c_minus\n",
    "A_u[no_high+2,no_high+2+1]=-sigma_c_plus\n",
    "B_u[no_high+2,no_high+2]=1.-sigma_c_plus-sigma_c_minus\n",
    "B_u[no_high+2,no_high+2-1]=sigma_c_minus\n",
    "B_u[no_high+2,no_high+2+1]=sigma_c_plus\n",
    "\n",
    "A_v[no_high+2,no_high+2]=1.+sigma_c_plus_v+sigma_c_minus_v\n",
    "A_v[no_high+2,no_high+2-1]=-sigma_c_minus_v\n",
    "A_v[no_high+2,no_high+2+1]=-sigma_c_plus_v\n",
    "B_v[no_high+2,no_high+2]=1.-sigma_c_plus_v-sigma_c_minus_v\n",
    "B_v[no_high+2,no_high+2-1]=sigma_c_minus_v\n",
    "B_v[no_high+2,no_high+2+1]=sigma_c_plus_v\n",
    "\n",
    "    \n",
    "# 2nd membrane left boundary\n",
    "sigma_c_minus = float(d_u*dt)/float((2.*dx*d_c)) # outside membrane \n",
    "sigma_c_plus = float(d_m*dt)/float((2.*(J1[1]-J1[0])*d_c)) # within membrane\n",
    "\n",
    "sigma_c_minus_v = float(d_v*dt)/float((2.*dx*d_c)) # outside membrane \n",
    "sigma_c_plus_v = float(d_v_m*dt)/float((2.*(J1[1]-J1[0])*d_c)) # within membrane\n",
    "\n",
    "A_u[second_mem,second_mem]=1.+sigma_c_plus+sigma_c_minus\n",
    "A_u[second_mem,second_mem-1]=-sigma_c_minus\n",
    "A_u[second_mem,second_mem+1]=-sigma_c_plus\n",
    "B_u[second_mem,second_mem]=1.-sigma_c_plus-sigma_c_minus\n",
    "B_u[second_mem,second_mem-1]=sigma_c_minus\n",
    "B_u[second_mem,second_mem+1]=sigma_c_plus\n",
    "\n",
    "\n",
    "A_v[second_mem,second_mem]=1.+sigma_c_plus_v+sigma_c_minus_v\n",
    "A_v[second_mem,second_mem-1]=-sigma_c_minus_v\n",
    "A_v[second_mem,second_mem+1]=-sigma_c_plus_v\n",
    "B_v[second_mem,second_mem]=1.-sigma_c_plus_v-sigma_c_minus_v\n",
    "B_v[second_mem,second_mem-1]=sigma_c_minus_v\n",
    "B_v[second_mem,second_mem+1]=sigma_c_plus_v\n",
    "\n",
    "# within the 2nd membrane \n",
    "if len(J2) >=3: # work only if there's more than 3 elements in J2\n",
    "    for i in range(len(J2)-2): # excluding the left and right boundary\n",
    "        i = i+1 # next of the left boundary\n",
    "        A_u[second_mem+i,second_mem+i]=1.+2.*sigma_m\n",
    "        A_u[second_mem+i,second_mem+i-1]=-sigma_m\n",
    "        A_u[second_mem+i,second_mem+i+1]=-sigma_m\n",
    "        B_u[second_mem+i,second_mem+i]=1.-2.*sigma_m\n",
    "        B_u[second_mem+i,second_mem+i-1]=sigma_m\n",
    "        B_u[second_mem+i,second_mem+i+1]=sigma_m\n",
    "\n",
    "        A_v[second_mem+i,second_mem+i]=1.+2.*sigma_m_v\n",
    "        A_v[second_mem+i,second_mem+i-1]=-sigma_m_v\n",
    "        A_v[second_mem+i,second_mem+i+1]=-sigma_m_v\n",
    "        B_v[second_mem+i,second_mem+i]=1.-2.*sigma_m_v\n",
    "        B_v[second_mem+i,second_mem+i-1]=sigma_m_v\n",
    "        B_v[second_mem+i,second_mem+i+1]=sigma_m_v\n",
    "# 2nd membrane right boundary\n",
    "sigma_c_minus = float(d_m*dt)/float((2.*(J1[1]-J1[0])*d_c)) # within membrane \n",
    "sigma_c_plus = float(d_u*dt)/float((2.*dx*d_c)) # outside membrane\n",
    "\n",
    "sigma_c_minus_v = float(d_v_m*dt)/float((2.*(J1[1]-J1[0])*d_c)) # within membrane \n",
    "sigma_c_plus_v = float(d_v*dt)/float((2.*dx*d_c)) # outside membrane\n",
    "\n",
    "A_u[second_mem+2,second_mem+2]=1.+sigma_c_plus+sigma_c_minus\n",
    "A_u[second_mem+2,second_mem+2-1]=-sigma_c_minus\n",
    "A_u[second_mem+2,second_mem+2+1]=-sigma_c_plus\n",
    "B_u[second_mem+2,second_mem+2]=1.-sigma_c_plus-sigma_c_minus\n",
    "B_u[second_mem+2,second_mem+2-1]=sigma_c_minus\n",
    "B_u[second_mem+2,second_mem+2+1]=sigma_c_plus  \n",
    "\n",
    "A_v[second_mem+2,second_mem+2]=1.+sigma_c_plus_v+sigma_c_minus_v\n",
    "A_v[second_mem+2,second_mem+2-1]=-sigma_c_minus_v\n",
    "A_v[second_mem+2,second_mem+2+1]=-sigma_c_plus_v\n",
    "B_v[second_mem+2,second_mem+2]=1.-sigma_c_plus_v-sigma_c_minus_v\n",
    "B_v[second_mem+2,second_mem+2-1]=sigma_c_minus_v\n",
    "B_v[second_mem+2,second_mem+2+1]=sigma_c_plus_v  \n"
   ]
  },
  {
   "cell_type": "code",
   "execution_count": 9,
   "metadata": {
    "collapsed": true
   },
   "outputs": [],
   "source": [
    "f_vec = lambda U, V: numpy.multiply(numpy.multiply(numpy.multiply(dt,U),k0),V)"
   ]
  },
  {
   "cell_type": "code",
   "execution_count": 10,
   "metadata": {
    "collapsed": false
   },
   "outputs": [],
   "source": [
    "# Solve the system iteratively\n",
    "U_record = []\n",
    "V_record = []\n",
    "\n",
    "U_record.append(U)\n",
    "V_record.append(V)\n",
    "\n",
    "for ti in range(1,N):\n",
    "    #if ti == 100: # 12 min after starting \n",
    "    #    U_add =  numpy.array([10. for i in range(0,no_high)]+ [0. for i in range(no_high,len(x_grid))]); # add 10x \n",
    "    #    U = U+U_add;\n",
    "        \n",
    "    U_new = numpy.linalg.solve(A_u,B_u.dot(U)-f_vec(U,V))\n",
    "    V_new = numpy.linalg.solve(A_v,B_v.dot(V))\n",
    "    U = U_new \n",
    "    V = V_new\n",
    "    U_record.append(U)\n",
    "    V_record.append(V)\n"
   ]
  },
  {
   "cell_type": "code",
   "execution_count": 11,
   "metadata": {
    "collapsed": true
   },
   "outputs": [],
   "source": [
    "pyplot.plot(x_grid, U)\n",
    "pyplot.plot(x_grid, V)\n",
    "pyplot.show()"
   ]
  },
  {
   "cell_type": "code",
   "execution_count": null,
   "metadata": {
    "collapsed": true
   },
   "outputs": [],
   "source": []
  }
 ],
 "metadata": {
  "kernelspec": {
   "display_name": "Python 2",
   "language": "python",
   "name": "python2"
  },
  "language_info": {
   "codemirror_mode": {
    "name": "ipython",
    "version": 2
   },
   "file_extension": ".py",
   "mimetype": "text/x-python",
   "name": "python",
   "nbconvert_exporter": "python",
   "pygments_lexer": "ipython2",
   "version": "2.7.10"
  }
 },
 "nbformat": 4,
 "nbformat_minor": 0
}
